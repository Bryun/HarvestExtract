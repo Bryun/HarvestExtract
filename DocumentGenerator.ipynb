{
 "cells": [
  {
   "attachments": {},
   "cell_type": "markdown",
   "id": "db427edf",
   "metadata": {},
   "source": [
    "# Document Generator\n",
    "\n",
    "Generate the following document `Google Document`, `Google Form`, `Excel` from PDF."
   ]
  },
  {
   "cell_type": "code",
   "execution_count": null,
   "id": "0a0dfcdf-5970-4c50-8bb7-5f24efeb0cbc",
   "metadata": {},
   "outputs": [],
   "source": []
  }
 ],
 "metadata": {
  "kernelspec": {
   "display_name": ".venv",
   "language": "python",
   "name": "python3"
  },
  "language_info": {
   "codemirror_mode": {
    "name": "ipython",
    "version": 3
   },
   "file_extension": ".py",
   "mimetype": "text/x-python",
   "name": "python",
   "nbconvert_exporter": "python",
   "pygments_lexer": "ipython3",
   "version": "3.11.4"
  }
 },
 "nbformat": 4,
 "nbformat_minor": 5
}
